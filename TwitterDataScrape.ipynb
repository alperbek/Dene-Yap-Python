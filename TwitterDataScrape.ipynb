{
 "cells": [
  {
   "cell_type": "markdown",
   "metadata": {},
   "source": [
    "# Öncelikle Kütüphanelerimizi İçeriye Alalım ve Selenium ile Tarayıcımızı Açalım."
   ]
  },
  {
   "cell_type": "code",
   "execution_count": 6,
   "metadata": {},
   "outputs": [],
   "source": [
    "from selenium import webdriver\n",
    "from selenium.webdriver.common.by import By\n",
    "from selenium.webdriver.support import expected_conditions as EC\n",
    "from selenium.webdriver.support.ui import WebDriverWait\n",
    "import time\n",
    "\n",
    "browser = webdriver.Chrome('chromedriver.exe')\n",
    "browser.get(\"https://twitter.com/login\")"
   ]
  },
  {
   "cell_type": "markdown",
   "metadata": {},
   "source": [
    "# Şimdi Kullanıcı Girişini Yaptıralım"
   ]
  },
  {
   "cell_type": "code",
   "execution_count": 7,
   "metadata": {},
   "outputs": [],
   "source": [
    "kullanici_adiniz = \"kullanıcıadı\" #Buraya Kullanıcı Adınızı\n",
    "sifreniz = \"şifre\" #Burayada Şifrenizi Girin\n",
    "\n",
    "\n",
    "username = browser.find_element_by_xpath(\"//*[@id='page-container']/div/div[1]/form/fieldset/div[1]/input\").send_keys(kullanici_adiniz)\n",
    "password = browser.find_element_by_xpath(\"//*[@id='page-container']/div/div[1]/form/fieldset/div[2]/input\").send_keys(sifreniz)\n",
    "login = browser.find_element_by_xpath(\"//*[@id='page-container']/div/div[1]/form/div[2]/button\").click()\n"
   ]
  },
  {
   "cell_type": "markdown",
   "metadata": {},
   "source": [
    "# Arama Yaptıralım"
   ]
  },
  {
   "cell_type": "code",
   "execution_count": 8,
   "metadata": {},
   "outputs": [],
   "source": [
    "query = \"Teknofest\"\n",
    "\n",
    "browser.get(\"https://twitter.com/search?q=\"+query)"
   ]
  },
  {
   "cell_type": "markdown",
   "metadata": {},
   "source": [
    "# Aramadaki Tweetleri Scrape Ettirelim"
   ]
  },
  {
   "cell_type": "code",
   "execution_count": 9,
   "metadata": {},
   "outputs": [],
   "source": [
    "#Burada javascript ile aşağıya kaydırma işlemi yapılıyor.\n",
    "lenOfPage = browser.execute_script(\"window.scrollTo(0, document.body.scrollHeight);var lenOfPage=document.body.scrollHeight;return lenOfPage;\")\n",
    "match=False\n",
    "while(match==False):\n",
    "    lastCount = lenOfPage\n",
    "    time.sleep(4)\n",
    "    lenOfPage = browser.execute_script(\"window.scrollTo(0, document.body.scrollHeight);var lenOfPage=document.body.scrollHeight;return lenOfPage;\")\n",
    "    if lastCount == lenOfPage:\n",
    "        match=True\n",
    "time.sleep(4)\n",
    "\n",
    "tweets = []\n",
    "#Buda bütün twitleri içinde barındırıyor. \n",
    "elements = browser.find_elements_by_class_name(\"js-tweet-text-container\")\n",
    "\n",
    "for element in elements:\n",
    "    tweets.append(element.text)\n",
    "        \n",
    "browser.get(\"https://twitter.com\")\n",
    "browser.close()"
   ]
  },
  {
   "cell_type": "markdown",
   "metadata": {},
   "source": [
    "# Kaydettiğimiz Tweetlere Göz Atalım"
   ]
  },
  {
   "cell_type": "code",
   "execution_count": 10,
   "metadata": {},
   "outputs": [
    {
     "data": {
      "text/plain": [
       "[\"Bağcılar Enderun Yetenekli Çocuklar Merkezi, 7 projeyle TEKNOFEST'e katılacak. - Teknoloji Haberleri \",\n",
       " 'Yerli Uçan Otomobil \"Cezeri\" eylül ayında  #TEKNOFEST\\'te görücüye çıkıyor. \\n\\n@Selcuk #Teknoloji #otomobil',\n",
       " 'Teknofest tarihlerini öğrendim mutluyum ',\n",
       " 'Gerçek hayattaki en karmaşık senaryolarda yeteneklerinizi test etmek istiyorsanız yarışmaya http://hackistanbul.com  sayfasından kaydınızı yaptırabilirsiniz. Son gün 20 Ağustos! #DijitalTR #MilliTeknolojiHamlesi @T3Vakfi @teknofest @hackistanbulCTF',\n",
       " \"Bu ülkenin hayal eden, üreten, cesur ve çalışkan girişimcileri yalnız değil!  \\n\\n #TEKNOFEST @TakeOffistanbul'da girişimcilik dünyasının liderleri, onları bekliyor. \\n\\n  16-19 Eylül \\n  Atatürk Havalimanı \\n\\n  http://takeoffistanbul.com \",\n",
       " 'Bu yıl kızımın da içinde yer aldığı @EnderunBagcilar , 7 projeyle @teknofestist ‘a katılacak.\\n\\nŞimdiden tüm ekiplere başarılar.\\n\\n#MilliTeknolojiHamlesi',\n",
       " \"Savaşan İHA 'Cevheri' göreve hazır #TEKNOFEST #İHA - http://www.teknolojigundem.com/haber/savasan-iha-cevheri-goreve-hazir/1428328 …\",\n",
       " \"Recep Tayyip Erdoğan Üniversitesi'nin Roketi TEKNOFEST'te Finalde Uçuş Hakkı Kazandı\\nhttp://www.olay53.com/haber/rteunun-arastirma-roketi-teknofestte-ucus-hakki-kazandi-706111.htm …\",\n",
       " \"Yazılım konusunda, çalışır durumda olan projelerin var mı? Bahseder misin? — Teknofest'e hazırlanıyoruz, çalışır durumda birkaç robot kodum var. Eğlencesine yazdığım birkaç Windows uygulaması ve bir tane lag virüsümsüsü yazmıştım.… \",\n",
       " 'Yeni ekonomiye teknoloji girişimleri yön veriyor.\\n\\nTürkiye’mizi bu alanda küresel merkezlerden biri yapmak istiyoruz.\\n\\n#Teknofest’te düzenlenecek Take Off Uluslararası Girişim Zirvesi’ne bu yıl 104 farklı ülkeden 1316 girişim başvurdu. Finale kalan en iyiler İstanbul’da olacak. ',\n",
       " \"Teknofest 2019 Alçak İrtifa Roket takımlarından finale kalan Caca Bey Roket Takımı'nın Montaj De-montaj videosunu bağlantıdan izleyebilirsiniz. @PauTeknokent  @pautto  \\n\\nhttps://youtu.be/Arg2cLOIqZg \",\n",
       " 'Parça Mucitleri Takımı olarak Teknofest 2019 Uçan Araba Tasarım Yarışması Serbest Kategori ’de ön elemeleri geçip , finallere kalarak Teknofest Komitesi tarafından  TUSAŞ ( Türk Havacılık ve Uzay Sanayi) a davet edildik#kodlama #TEKNOFEST @yagmrryilmzz @T3Vakfi @teknofestist pic.twitter.com/rTrzg1NrME',\n",
       " '#TEKNOFEST ; yeni bir vizyon, mükemmel planlama https://www.star.com.tr/yazar/teknofest-3b-yeni-bir-vizyon-mukemmel-planlama-yazi-1387790/ … @stargazete aracılığıyla  @yigitbulutt',\n",
       " \"@Selcuk   #SelcukBayraktar\\nTEKNOFEST #TakeOffIstanbul'da Girişimcilik Dünyasının Liderleri, Onları Bekliyor...\\n#MilliTeknolojiHamlesi\\n\\n16-19 Eylül\\nAtatürk Havalimanı\",\n",
       " 'Take-Off Uluslararası Girişim Zirvesi İçin Başvurular Bugün Sona Eriyor!..\\nhttps://www.kanal23.com/haber/teknoloji/take-off-uluslararasi-girisim-zirvesi-icin-basvurular-bugun-sona-eriyor-ByA7sZd2 …\\n\\n #TEKNOFEST  @Selcuk @TakeOffistanbul',\n",
       " \"Savaşan İHA 'Cevheri' göreve hazır \\n\\nTUSAŞ-Uludağ Üniversitesi Ar-Ge Merkezi'nde çalışan stajyer mühendisler, TEKNOFEST 2019 Savaşan İnsansız Hava Aracı Yarışması için Cevheri İHA'yı geliştirdi http://v.aa.com.tr/1557019 \",\n",
       " 'Bizim de bir fikrimiz var \\nBu yıl olmaz ama bir dahaki seneye İnşallah  #ileriDahaİleri #teknofest #DENEYAP #milliteknolojihamlesi  @Selcuk',\n",
       " '#Teknofest bünyesinde Alçak İrtifa Roket Yarışması’na adım adım.. \\nRoketimizin tanjant ojiv şeklindeki burun konisi imalatını gerçekleştirdik.\\n\\n#TEKNOFEST 2019’un finalinde şampiyonlar buluşacak! ',\n",
       " '#TEKNOFEST ailesi olarak Kurban Bayramınızı sevdiklerinizle birlikte huzur ve mutluluk dolu geçirmenizi dileriz.  ',\n",
       " 'Çok güzel değil mi?\\n#Teknofest https://twitter.com/Selcuk/status/1160152644452868096 …',\n",
       " \"En İyi Girişimleri Google'lıyoruz\\n\\nGirişimciler ve girişimcilik dünyasının uluslararası paydaşları, @Google ana sponsorluğunda düzenlenen @takeoffistanbul'da buluşuyor.\\n\\n#TEKNOFEST\\n\\n16-19 Eylül\\nAtatürk Havalimanı, İstanbul\\nSon başvuru 15 Ağustoshttp://takeoffistanbul.com \"]"
      ]
     },
     "execution_count": 10,
     "metadata": {},
     "output_type": "execute_result"
    }
   ],
   "source": [
    "tweets"
   ]
  },
  {
   "cell_type": "code",
   "execution_count": null,
   "metadata": {},
   "outputs": [],
   "source": []
  }
 ],
 "metadata": {
  "kernelspec": {
   "display_name": "Python 3",
   "language": "python",
   "name": "python3"
  },
  "language_info": {
   "codemirror_mode": {
    "name": "ipython",
    "version": 3
   },
   "file_extension": ".py",
   "mimetype": "text/x-python",
   "name": "python",
   "nbconvert_exporter": "python",
   "pygments_lexer": "ipython3",
   "version": "3.6.4"
  }
 },
 "nbformat": 4,
 "nbformat_minor": 2
}
