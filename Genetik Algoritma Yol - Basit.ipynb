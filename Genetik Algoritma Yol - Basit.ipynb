{
 "cells": [
  {
   "cell_type": "code",
   "execution_count": 1,
   "metadata": {},
   "outputs": [],
   "source": [
    "import numpy as np\n",
    "import matplotlib.pyplot as plt"
   ]
  },
  {
   "cell_type": "code",
   "execution_count": 2,
   "metadata": {},
   "outputs": [
    {
     "data": {
      "image/png": "[encoded data removed]",
      "text/plain": [
       "<matplotlib.figure.Figure at 0x27cadfb3630>"
      ]
     },
     "metadata": {},
     "output_type": "display_data"
    }
   ],
   "source": [
    "hx, hy = 9, 9  # hedef\n",
    "x, y = 2, 0    # baslangic\n",
    "\n",
    "yolx = [x]\n",
    "yoly = [y]\n",
    "\n",
    "def ciz():\n",
    "    global x, y\n",
    "    plt.plot(hx, hy, 'go', markersize=10)\n",
    "    plt.plot(x, y, 'r^', markersize=15)\n",
    "    plt.plot(yolx, yoly)\n",
    "    plt.axis((-2,hx+2,0,hy+2))\n",
    "    plt.grid()\n",
    "    plt.show()\n",
    "\n",
    "ciz()"
   ]
  },
  {
   "cell_type": "code",
   "execution_count": 3,
   "metadata": {},
   "outputs": [],
   "source": [
    "def sag():\n",
    "    global x, y\n",
    "    x = x +1\n",
    "    yolx.append(x)\n",
    "    yoly.append(y)\n",
    "    \n",
    "def sol():\n",
    "    global x, y\n",
    "    x = x -1\n",
    "    yolx.append(x)\n",
    "    yoly.append(y)\n",
    "    \n",
    "def yukari():\n",
    "    global x, y\n",
    "    y = y + 1\n",
    "    yolx.append(x)\n",
    "    yoly.append(y)\n",
    "    \n",
    "def reset():\n",
    "    global yolx, yoly, x, y\n",
    "    x, y = 2, 0    # baslangic\n",
    "\n",
    "    yolx = [x]\n",
    "    yoly = [y] "
   ]
  },
  {
   "cell_type": "code",
   "execution_count": 4,
   "metadata": {},
   "outputs": [
    {
     "name": "stdout",
     "output_type": "stream",
     "text": [
      "[2, 2, 3, 3, 4, 4, 5, 5, 4]\n",
      "[0, 1, 1, 2, 2, 3, 3, 4, 4]\n"
     ]
    }
   ],
   "source": [
    "reset()\n",
    "\n",
    "yukari()\n",
    "sag()\n",
    "yukari()\n",
    "sag()\n",
    "yukari()\n",
    "sag()\n",
    "yukari()\n",
    "sol()\n",
    "print(yolx)\n",
    "print(yoly)"
   ]
  },
  {
   "cell_type": "code",
   "execution_count": 5,
   "metadata": {},
   "outputs": [
    {
     "data": {
      "image/png": "[encoded data removed]",
      "text/plain": [
       "<matplotlib.figure.Figure at 0x27caffc7f98>"
      ]
     },
     "metadata": {},
     "output_type": "display_data"
    }
   ],
   "source": [
    "ciz()"
   ]
  },
  {
   "cell_type": "code",
   "execution_count": 7,
   "metadata": {},
   "outputs": [
    {
     "data": {
      "text/plain": [
       "array(['YUK', 'SOL', 'YUK', 'YUK', 'SOL', 'SOL', 'SOL', 'SOL'],\n",
       "      dtype='<U3')"
      ]
     },
     "execution_count": 7,
     "metadata": {},
     "output_type": "execute_result"
    }
   ],
   "source": [
    "hareket = {\"YUK\":yukari, \"SAG\":sag, \"SOL\":sol}\n",
    "cozum = np.random.choice([\"YUK\",\"SAG\",\"SOL\"], 8)\n",
    "m = np.random.choice(len(cozum))\n",
    "cozum[m] = np.random.choice([\"YUK\",\"SAG\",\"SOL\"])\n",
    "cozum"
   ]
  },
  {
   "cell_type": "code",
   "execution_count": 8,
   "metadata": {},
   "outputs": [
    {
     "name": "stdout",
     "output_type": "stream",
     "text": [
      "['YUK' 'YUK' 'YUK' 'SOL' 'YUK' 'SOL' 'SOL' 'YUK']\n",
      "['SOL' 'YUK' 'SAG' 'SAG' 'SAG' 'SAG' 'YUK' 'YUK']\n"
     ]
    }
   ],
   "source": [
    "cozum1 = np.random.choice([\"YUK\",\"SAG\",\"SOL\"], 8)\n",
    "cozum2 = np.random.choice([\"YUK\",\"SAG\",\"SOL\"], 8)\n",
    "print(cozum1)\n",
    "print(cozum2)"
   ]
  },
  {
   "cell_type": "code",
   "execution_count": 11,
   "metadata": {},
   "outputs": [
    {
     "name": "stdout",
     "output_type": "stream",
     "text": [
      "[2, 2, 1, 1, 1, 0, -1, -2, -3]\n",
      "[0, 1, 1, 2, 3, 3, 3, 3, 3]\n"
     ]
    },
    {
     "data": {
      "image/png": "[encoded data removed]",
      "text/plain": [
       "<matplotlib.figure.Figure at 0x27cb00fb2e8>"
      ]
     },
     "metadata": {},
     "output_type": "display_data"
    }
   ],
   "source": [
    "reset()\n",
    "for c in cozum:\n",
    "    hareket[c]()\n",
    "print(yolx)\n",
    "print(yoly)\n",
    "ciz()\n"
   ]
  },
  {
   "cell_type": "code",
   "execution_count": 28,
   "metadata": {},
   "outputs": [],
   "source": [
    "def cozumciz(cozum):\n",
    "    reset()\n",
    "    for c in cozum:\n",
    "        hareket[c]()\n",
    "    print(yolx)\n",
    "    print(yoly)\n",
    "    ciz()  \n",
    "    \n",
    "def uyum2(birey):\n",
    "    return 1/ (1 + sum((adam - birey)**2))\n",
    "\n",
    "def kisi3(n = 8):\n",
    "    \"\"\" n uzunlugunda OYA harflerinden olusan genotip\n",
    "        ornek: kisi3() >> ['SAG', 'YUK', 'SOL', 'YUK', 'YUK', 'SAG', 'YUK', 'SOL']\n",
    "    \"\"\"\n",
    "    return np.random.choice([\"YUK\",\"SAG\",\"SOL\"], n)\n",
    "\n",
    "def uyum3(cozum):\n",
    "    \"\"\" probleme gore uyum degisir. \n",
    "    Burada maksimizasyon probleminde, ne kadar cok bire sahipseniz o kadar uyumlusunuz.\"\"\"\n",
    "    reset()\n",
    "    for c in cozum:\n",
    "        hareket[c]()\n",
    "    \n",
    "    fark_kare = (yolx[-1] - hx)**2 + (yoly[-1] - hy)**2 \n",
    "    return 1/(1+fark_kare**(0.5))\n",
    "\n",
    "def mutasyon3(kisi, p):\n",
    "    \"\"\" p olasilikla kisinin bir ozelligine OYA harflerinden rastgele\n",
    "    biri atanir.\"\"\"\n",
    "    if np.random.rand() < p:\n",
    "        m = np.random.choice(len(kisi))\n",
    "        kisi[m] = np.random.choice([\"YUK\",\"SAG\",\"SOL\"])\n",
    "        \n",
    "def olasilik(toplum, uyum = uyum2, elitist = True):\n",
    "    \"\"\"her bireyin uyum degeri hesaplanip, olasilik degerine dondurulur.\n",
    "    (uyumlar) [0.2, 0.2, 0.4, 0.4, 0.8] >> (olasiliklar) [0.1, 0.1, 0.2, 0.2, 0.4]\n",
    "    \n",
    "    if elitist == True\n",
    "        [0.2, 0.2, 0.4, 0.4, 0.8] >>[ 0.10225857,  0.10225857,  0.16859588,  0.16859588,  0.45829111]\n",
    "    \"\"\"\n",
    "    uyumlar = np.array([uyum(toplum[i])  for i in range(len(toplum))])\n",
    "    if elitist:\n",
    "        uyumlar = np.exp(uyumlar / uyumlar.mean()) # ortalamadan kucuk degerler iyice kuculur\n",
    "    olasiliklar = uyumlar / uyumlar.sum()\n",
    "    return olasiliklar\n",
    "\n",
    "def en_iyi(toplum, olasiliklar):\n",
    "    eniyi = olasiliklar.argsort()[-1]\n",
    "    return toplum[eniyi]\n",
    "\n",
    "def caprazlama(toplum, secim):\n",
    "    \"\"\"Basarili 2 birey kisi0 ve kisi1 secilip caprazlanir.\"\"\"\n",
    "    kisi0 = toplum[secim[0]]\n",
    "    kisi1 = toplum[secim[1]]\n",
    "    n = len(toplum[secim[0]])//2\n",
    "    return np.hstack((kisi0[:n],kisi1[n:]))\n",
    "\n",
    "def yeni_toplum(toplum, olasiliklar, mutasyon = mutasyon3, p = 0.05):\n",
    "    \"\"\" Toplumun (basarisiz) yarisi emekli edilip,\n",
    "    basarili bireylerin cocuklari topluma eklenecek.\n",
    "    \"\"\"\n",
    "    k = len(toplum)//2\n",
    "    emekli = olasiliklar.argsort()[:k] # basarisizlar\n",
    "    #yeniler = np.zeros((k,toplum.shape[1]))\n",
    "    for i in range(k):\n",
    "        s = secim(olasiliklar)\n",
    "        yeni_kisi = caprazlama(toplum, s)\n",
    "        mutasyon(yeni_kisi, p) \n",
    "        #yeniler[i] = yeni_kisi\n",
    "        toplum[emekli[i]]= yeni_kisi\n",
    "        \n",
    "    #toplum[emekli] = yeniler\n",
    "    return toplum\n",
    "    \n",
    "def secim(olasiliklar):\n",
    "    \"\"\"p=olasiliklara gore bireyler secilir. Olasiligi yuksek olan daha fazla secilir.\"\"\"\n",
    "    secim = np.random.choice(len(olasiliklar), 2, replace= False, p=olasiliklar)\n",
    "    return secim"
   ]
  },
  {
   "cell_type": "code",
   "execution_count": 25,
   "metadata": {},
   "outputs": [
    {
     "data": {
      "text/plain": [
       "array(['YUK', 'YUK', 'SOL', 'YUK', 'YUK', 'SAG', 'YUK', 'SOL', 'YUK',\n",
       "       'YUK', 'YUK', 'SAG', 'YUK', 'SAG', 'SAG', 'SAG'], dtype='<U3')"
      ]
     },
     "execution_count": 25,
     "metadata": {},
     "output_type": "execute_result"
    }
   ],
   "source": [
    "N = 10 # Toplumdaki kisi sayisi N\n",
    "toplum = np.array([kisi3(n = 16)  for i in range(N)])\n",
    "olasiliklar = olasilik(toplum, uyum=uyum3)\n",
    "\n",
    "eniyi = en_iyi(toplum, olasiliklar)\n",
    "eniyi"
   ]
  },
  {
   "cell_type": "code",
   "execution_count": 26,
   "metadata": {},
   "outputs": [
    {
     "name": "stdout",
     "output_type": "stream",
     "text": [
      "[2, 2, 2, 1, 1, 1, 2, 2, 1, 1, 1, 1, 2, 2, 3, 4, 5]\n",
      "[0, 1, 2, 2, 3, 4, 4, 5, 5, 6, 7, 8, 8, 9, 9, 9, 9]\n"
     ]
    },
    {
     "data": {
      "image/png": "[encoded data removed]",
      "text/plain": [
       "<matplotlib.figure.Figure at 0x27cb0243320>"
      ]
     },
     "metadata": {},
     "output_type": "display_data"
    }
   ],
   "source": [
    "cozumciz(eniyi)"
   ]
  },
  {
   "cell_type": "code",
   "execution_count": 29,
   "metadata": {},
   "outputs": [
    {
     "name": "stdout",
     "output_type": "stream",
     "text": [
      "[2, 3, 3, 3, 3, 3, 3, 4, 5, 5, 5, 5, 6, 6, 7, 8, 9]\n",
      "[0, 0, 1, 2, 3, 4, 5, 5, 5, 6, 7, 8, 8, 9, 9, 9, 9]\n"
     ]
    },
    {
     "data": {
      "image/png": "[encoded data removed]",
      "text/plain": [
       "<matplotlib.figure.Figure at 0x27cb0286978>"
      ]
     },
     "metadata": {},
     "output_type": "display_data"
    }
   ],
   "source": [
    "for i in range(100):\n",
    "    toplum = yeni_toplum(toplum, olasiliklar, mutasyon = mutasyon3, p= 0.15) \n",
    "    olasiliklar = olasilik(toplum, uyum=uyum3)\n",
    "cozumciz(en_iyi(toplum, olasiliklar))"
   ]
  },
  {
   "cell_type": "code",
   "execution_count": null,
   "metadata": {},
   "outputs": [],
   "source": []
  }
 ],
 "metadata": {
  "kernelspec": {
   "display_name": "Python 3",
   "language": "python",
   "name": "python3"
  },
  "language_info": {
   "codemirror_mode": {
    "name": "ipython",
    "version": 3
   },
   "file_extension": ".py",
   "mimetype": "text/x-python",
   "name": "python",
   "nbconvert_exporter": "python",
   "pygments_lexer": "ipython3",
   "version": "3.6.4"
  }
 },
 "nbformat": 4,
 "nbformat_minor": 2
}
